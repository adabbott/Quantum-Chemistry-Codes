{
 "cells": [
  {
   "cell_type": "markdown",
   "metadata": {},
   "source": [
    "# Hartree&mdash;Fock Theory\n",
    "\n",
    "**This assignment is due on Friday, January 20 by 5PM by email.**\n",
    "\n",
    "This partial walkthrough assumes you have already familiar with the math of Hatree&mdash;Fock theory.\n",
    "\n",
    "The Hartree&mdash;Fock method is typically used to solve the time-independent Schrodinger equation for a multi-electron atom or molecule as described in the Born&mdash;Oppenheimer approximation. Since there are no known solutions for many-electron systems (hydrogenic atoms and the diatomic hydrogen cation being notable one-electron exceptions), the problem is solved numerically.\n",
    "\n",
    "## Theory\n",
    "### The Closed-Shell Hartree&mdash;Fock Energy\n",
    "The electronic energy in the MO basis\n",
    "\\begin{align}\n",
    "E_{elec}^{clscf}  = &  E_{one} \\ +\\  E_{two}   \\\\\n",
    " = &  2 \\ \\sum_i^n \\  h_{ii} \\ +\\  \\sum_{ij}^n \\  \\biggl\\{ 2(ii|jj) \\ -\\  (ij|ij) \\biggr\\} \\\\\n",
    " = &  2 \\ \\sum_i^n \\ h_{ii} \\ + \\ \\sum_{ij}^n \\  \\biggl\\{ 2J_{ij} \\ -\\  K_{ij} \\biggr\\} \\\\\n",
    " = &  \\sum_i^n \\  \\biggl( h_{ii} \\ +\\  F_{ii} \\biggr)\n",
    "\\end{align}\n",
    "\n",
    "The density matrix\n",
    "\\begin{equation}\n",
    "D_{\\mu\\nu} = \\sum_i^{\\mathrm{d.o.}} C_\\mu^i C_\\nu^i\n",
    "\\end{equation}\n",
    "\n",
    "The one-electron energy\n",
    "\\begin{align}\n",
    "E_{one} = &   2 \\ \\sum_i^n \\  h_{ii} \\\\\n",
    " = &  2 \\ \\sum_i^n \\  \\left\\{ \\sum_{ \\mu \\nu }^{AO} \\  C_{\\mu}^i C_{\\nu}^i\\ h_{ \\mu \\nu } \\right\\} \\\\\n",
    " = &  2 \\ \\sum_{ \\mu \\nu }^{AO} \\  \\left\\{ \\sum_i^n \\  C_{\\mu}^i C_{\\nu}^i  \\right\\}  h_{ \\mu \\nu } \\\\\n",
    " = &  2 \\ \\sum_{ \\mu \\nu }^{AO} \\  D_{ \\mu \\nu }   h_{ \\mu \\nu }\n",
    "\\end{align}\n",
    "\n",
    "The two-electron energy\n",
    "\\begin{align}\n",
    "E_{two} = &   \\sum_{ij}^n \\  \\biggl\\{ 2 (ii|jj) \\ -\\  (ij|ij) \\biggr\\} \\\\\n",
    " = &  \\sum_{ij}^n \\  \\Biggl[ \\sum_{ \\mu \\nu \\rho \\sigma }^{AO} \\  \\biggl\\{ 2 C_{\\mu}^i C_{\\nu}^i C_{\\rho}^j \n",
    "C_{\\sigma}^j\\ ( \\mu \\nu | \\rho \\sigma )\n",
    "\\ -\\  C_{\\mu}^i C_{\\nu}^j C_{\\rho}^i C_{\\sigma}^j\\ ( \\mu \\nu | \\rho \\sigma ) \\biggr\\}  \\Biggr]\n",
    " \\nonumber  \\\\\n",
    "  \\\\\n",
    " = &  \\sum_{ij}^n \\  \\Biggl[ \\sum_{ \\mu \\nu \\rho \\sigma }^{AO} \\  \\biggl\\{ 2 C_{\\mu}^i C_{\\nu}^i C_{\\rho}^j\n",
    "C_{\\sigma}^j\\ ( \\mu \\nu | \\rho \\sigma )\n",
    "\\ -\\  C_{\\mu}^i C_{\\rho}^j C_{\\nu}^i C_{\\sigma}^j\\ ( \\mu \\rho | \\nu \\sigma ) \\biggr\\}  \\Biggr]\n",
    "   \\nonumber \\\\\n",
    "   \\\\\n",
    " = &  \\sum_{ \\mu \\nu \\rho \\sigma }^{AO} \\  \\Biggl[ \\biggl\\{ \\sum_i^n \\  C_{\\mu}^i C_{\\nu}^i \\biggr\\} \n",
    "\\biggl\\{ \\sum_j^n \\  C_{\\rho}^j C_{\\sigma}^j \\biggr\\}\n",
    "   \\biggl\\{  2 ( \\mu \\nu | \\rho \\sigma ) \\ -\\  ( \\mu \\rho | \\nu \\sigma ) \\biggr\\}\n",
    "\\Biggr] \\\\\n",
    " = & \\sum_{ \\mu \\nu \\rho \\sigma }^{AO} \\  D_{ \\mu \\nu } D_{ \\rho \\sigma }\n",
    "    \\biggl\\{ 2 ( \\mu \\nu | \\rho \\sigma )\n",
    "\\ -\\  ( \\mu \\rho | \\nu \\sigma ) \\biggr\\}\n",
    "\\end{align}\n",
    "\n",
    "The electronic energy in the AO basis\n",
    "\\begin{align}\n",
    "E_{elec}^{clscf} = &  2 \\ \\sum_{ \\mu \\nu }^{AO} \\  D_{ \\mu \\nu } h_{ \\mu \\nu }\n",
    "\\ +\\  \\sum_{ \\mu \\nu \\rho \\sigma }^{AO} \\  D_{ \\mu \\nu } D_{ \\rho \\sigma }  \n",
    "\\biggl\\{ 2 ( \\mu \\nu | \\rho \\sigma ) \\ -\\  ( \\mu \\rho | \\nu \\sigma ) \\biggr\\} \\nonumber \\\\\n",
    "   \\\\\n",
    " = &  \\sum_{ \\mu \\nu }^{AO} \\  D_{ \\mu \\nu }  \\Biggl[   2 h_{ \\mu \\nu }\n",
    "\\ +\\  \\sum_{ \\rho \\sigma }^{AO} \\  D_{ \\rho \\sigma } \n",
    "  \\biggl\\{ 2 ( \\mu \\nu | \\rho \\sigma ) \\ -\\  ( \\mu \\rho | \\nu \\sigma ) \\biggr\\} \\Biggr] \\\\\n",
    " = &  \\sum_{ \\mu \\nu }^{AO} \\  D_{ \\mu \\nu }   \\biggl(   h_{ \\mu \\nu } \\ +\\  F_{ \\mu \\nu } \\biggr)\n",
    "\\end{align}\n",
    "\n",
    "### The Unrestricted Hartree&mdash;Fock Energy\n",
    "As was shown above the closed-shell electronic HF energy in the MO basis is\n",
    "\\begin{align}\n",
    "E_{elec}^{clscf}  = &  E_{one} \\ +\\  E_{two}   \\\\\n",
    " = &  2 \\ \\sum_i^n \\  h_{ii} \\ +\\  \\sum_{ij}^n \\  \\biggl\\{ 2(ii|jj) \\ -\\  (ij|ij) \\biggr\\} \\\\\n",
    " = &  2 \\ \\sum_i^n \\ h_{ii} \\ + \\ \\sum_{ij}^n \\  \\biggl\\{ 2J_{ij} \\ -\\  K_{ij} \\biggr\\} \\\\\n",
    "\\end{align}\n",
    "The UHF electron energy in the MO basis is\n",
    "\\begin{align}\n",
    "E_{elec}^{UHF} = & \\sum_i^n \\ h_{ii}^{\\alpha} + \\sum_i^n \\ h_{ii}^{\\beta} \\\\\n",
    "               + & \\sum_{i<j}^p \\biggl\\{ J_{ij}^{\\alpha} - K_{ij}^{\\alpha} \\biggr\\} + \\sum_{i<j}^p \\biggl\\{ J_{ij}^{\\beta} - K_{ij}^{\\beta} \\biggr\\} \\\\\n",
    "               + & \\sum_i^p \\sum_j^q J_{ij}^{\\alpha\\beta}\n",
    "\\end{align}"
   ]
  },
  {
   "cell_type": "markdown",
   "metadata": {},
   "source": [
    "## Load <span style=\"font-variant: small-caps\">Psi4</span> and NumPy\n",
    "You will use Psi4 to compute integrals and NumPy to perform the linear algebra.\n",
    "\n",
    "Input options will be provided by Python's `configparser` module.  This is also how I will be testing your code to determine your grade. For the UHF project your code needs to understand the following options. Add the lines below to a file named ```Options.ini``` we will read the file in the next block.\n",
    "\n",
    "    [DEFAULT]\n",
    "    basis = STO-3G\n",
    "    molecule =\n",
    "      0 1\n",
    "      O\n",
    "      H 1 R\n",
    "      H 1 R 2 A\n",
    "      R = 1.0\n",
    "      A = 104.5\n",
    "      symmetry c1\n",
    "    nalpha = 5\n",
    "    nbeta = 5\n",
    "\n",
    "    [SCF]\n",
    "    max_iter = 50"
   ]
  },
  {
   "cell_type": "code",
   "execution_count": null,
   "metadata": {
    "collapsed": false
   },
   "outputs": [],
   "source": [
    "import psi4\n",
    "import numpy as np\n",
    "\n",
    "import configparser\n",
    "config = configparser.ConfigParser()\n",
    "config.read('Options.ini')"
   ]
  },
  {
   "cell_type": "markdown",
   "metadata": {},
   "source": [
    "## Setup your initial conditions\n",
    "- Construct a new molecule in C1 symmetry\n",
    "- Load in the basis set\n",
    "- Create a `MintsHelper` object to will compute the integrals. Refer to [this](http://www.psicode.org/psi4manual/master/api/psi4.core.MintsHelper.html) for grossly incomplete documentation."
   ]
  },
  {
   "cell_type": "code",
   "execution_count": null,
   "metadata": {
    "collapsed": false
   },
   "outputs": [],
   "source": [
    "molecule = psi4.geometry(config['DEFAULT']['molecule'])\n",
    "\n",
    "# Number of doubly occupied orbitals\n",
    "ndocc = 5\n",
    "\n",
    "# Maximum number of SCF iterations\n",
    "SCF_MAX_ITER = int(config['SCF']['max_iter'])\n",
    "\n",
    "molecule.update_geometry()\n",
    "print(molecule.nuclear_repulsion_energy())\n",
    "#help(psi4.core.BasisSet.build)\n",
    "basis = psi4.core.BasisSet.build(molecule, \"BASIS\", config['DEFAULT']['basis'])\n",
    "#help(psi4.core.MintsHelper)\n",
    "mints = psi4.core.MintsHelper(basis)"
   ]
  },
  {
   "cell_type": "markdown",
   "metadata": {},
   "source": [
    "## Compute the needed integrals"
   ]
  },
  {
   "cell_type": "code",
   "execution_count": null,
   "metadata": {
    "collapsed": false
   },
   "outputs": [],
   "source": [
    "# Overlap\n",
    "S = mints.ao_overlap().to_array()\n",
    "# Kinetic\n",
    "T = mints.ao_kinetic().to_array()\n",
    "# Potential\n",
    "V = mints.ao_potential().to_array()\n",
    "# Two-electron repulsion\n",
    "I = mints.ao_eri().to_array()"
   ]
  },
  {
   "cell_type": "markdown",
   "metadata": {},
   "source": [
    "## Form the one-electron Hamiltonian (H)\n",
    "\\begin{equation}\n",
    "H_{\\mu\\nu} = T_{\\mu\\nu} + V_{\\mu\\nu}\n",
    "\\end{equation}"
   ]
  },
  {
   "cell_type": "code",
   "execution_count": null,
   "metadata": {
    "collapsed": false
   },
   "outputs": [],
   "source": [
    "H = T + V\n",
    "print(H)"
   ]
  },
  {
   "cell_type": "markdown",
   "metadata": {
    "collapsed": true
   },
   "source": [
    "## Construct the orthogonalizer $S^{-1/2}$\n",
    "The steps to complete this are:\n",
    "- Diagonalize the S matrix\n",
    "\\begin{align}\n",
    "& S L_S = L_S \\Lambda_S \\\\\n",
    "& L_S \\tilde L_S = L_S L_S^{-1} = 1\n",
    "\\end{align}\n",
    "- Form the $S^{-1/2}$ matrix\n",
    "\\begin{equation}\n",
    "S^{-1/2} = L_S \\Lambda_S^{-1/2} \\tilde L_S\n",
    "\\end{equation}\n",
    "\n",
    "Or use the <span style=\"font-variant: small-caps\">Psi4</span> function  ```power``` which does all of this for you."
   ]
  },
  {
   "cell_type": "code",
   "execution_count": null,
   "metadata": {
    "collapsed": false
   },
   "outputs": [],
   "source": [
    "A = mints.ao_overlap()\n",
    "A.power(-0.5, 1.e-16)\n",
    "A = A.to_array()"
   ]
  },
  {
   "cell_type": "markdown",
   "metadata": {},
   "source": [
    "## Construct the initial density matrix\n",
    "In this sample we will be using a core Hamiltonian guess.\n",
    "\n",
    "- Form an initial (transformed) $F_0^\\tau$ matrix using the H matrix.\n",
    "\\begin{equation}\n",
    "F_0^\\tau = \\tilde{S}^{-1/2} H S^{-1/2}\n",
    "\\end{equation}\n",
    "- Diagonalize the $F_0^\\tau$ matrix using a standard eigenvalue routine.\n",
    "\\begin{equation}\n",
    "F_0^\\tau C_0^\\tau = C_0^\\tau \\epsilon\n",
    "\\end{equation}\n",
    "- Form the SCF eigenvector matrix\n",
    "\\begin{equation}\n",
    "C = S^{-1/2} C_0^\\tau\n",
    "\\end{equation}\n",
    "- Form the first density matrix (D) using the doubly occupied orbitals from the eigenvector matrix\n",
    "\\begin{equation}\n",
    "D_{\\mu\\nu} = \\sum_{m}^{\\mathrm{d.o.}} C_\\mu^m C_\\nu^m\n",
    "\\end{equation}"
   ]
  },
  {
   "cell_type": "code",
   "execution_count": null,
   "metadata": {
    "collapsed": false
   },
   "outputs": [],
   "source": [
    "Ft = A.dot(H).dot(A)\n",
    "e, C = np.linalg.eigh(Ft)\n",
    "C = A.dot(C)\n",
    "Cocc = C[:, :ndocc]\n",
    "D = np.einsum('pi,qi->pq', Cocc, Cocc)\n",
    "print(D)"
   ]
  },
  {
   "cell_type": "markdown",
   "metadata": {},
   "source": [
    "## SCF Iterations\n",
    "Within the SCF iteration we must perform the following steps.\n",
    "- Construct a new Fock matrix (F) include the two-electron repulsion integrals\n",
    "\\begin{equation}\n",
    "F_{\\mu\\nu} = H_{\\mu\\nu} + \\sum_{\\rho\\sigma}^{AO} D_{\\rho\\sigma} \\left[ 2 (\\mu\\nu \\mid \\rho\\sigma) - (\\mu\\rho \\mid \\nu\\sigma) \\right]\n",
    "\\end{equation}\n",
    "- Calculate this iteration's electronic and total energies\n",
    "\\begin{equation}\n",
    "E_{elec} = \\sum_{\\mu\\nu}^{AO} D_{\\mu\\nu} \\left( H_{\\mu\\nu} + F_{\\mu\\nu} \\right)\n",
    "\\end{equation}\n",
    "\\begin{equation}\n",
    "E_{total} = E_{elec} + E_{nuc}\n",
    "\\end{equation}\n",
    "- Transform the Fock matrix\n",
    "\\begin{equation}\n",
    "F^\\tau = \\tilde{S}^{-1/2} F S^{-1/2}\n",
    "\\end{equation}\n",
    "- Diagonalize the Fock matrix\n",
    "\\begin{equation}\n",
    "F^\\tau C^\\tau = C^\\tau \\epsilon\n",
    "\\end{equation}\n",
    "- Construct the new SCF eigenvector matrix\n",
    "\\begin{equation}\n",
    "C = S^{-1/2} C^\\tau\n",
    "\\end{equation}\n",
    "- Form the new density matrix\n",
    "\\begin{equation}\n",
    "D_{\\mu\\nu} = \\sum_{m}^{d.o.} C_\\mu^m C_\\nu^m\n",
    "\\end{equation}\n",
    "- Test convergency of the density matrix and energy\n",
    "\\begin{equation}\n",
    "rms = \\left[ \\sum_{\\mu\\nu}^{AO} \\left( D_{\\mu\\nu}^n - D_{\\mu\\nu}^{n-1} \\right)^2 \\right]^{1/2} < \\delta_1\n",
    "\\end{equation}\n",
    "\\begin{equation}\n",
    "\\Delta E = E_{SCF}^{n} - E_{SCF}^{n-1} < \\delta_2\n",
    "\\end{equation}"
   ]
  },
  {
   "cell_type": "code",
   "execution_count": null,
   "metadata": {
    "collapsed": false
   },
   "outputs": [],
   "source": [
    "E = 0.0\n",
    "Eold = 0.0\n",
    "Dold = np.zeros_like(D)\n",
    "\n",
    "for iteration in range(1, SCF_MAX_ITER+1):\n",
    "    \n",
    "    # Build the Fock matrix\n",
    "    J = np.einsum('pqrs,rs->pq', I, D)\n",
    "    K = np.einsum('prqs,rs->pq', I, D)\n",
    "    F = H + J * 2 - K\n",
    "    \n",
    "    # Calculate SCF energy\n",
    "    E_SCF = np.einsum('pq,pq->', F+H, D) + molecule.nuclear_repulsion_energy()\n",
    "    print('RHF iteration %3d: energy %20.14f  dE %1.5E' % (iteration, E_SCF, (E_SCF - Eold)))\n",
    "    \n",
    "    if (abs(E_SCF - Eold) < 1.e-10):\n",
    "        break\n",
    "        \n",
    "    Eold = E_SCF\n",
    "    Dold = D\n",
    "    \n",
    "    # Transform the Fock matrix\n",
    "    Ft = A.dot(F).dot(A)\n",
    "    \n",
    "    # Diagonalize the Fock matrix\n",
    "    e, C = np.linalg.eigh(Ft)\n",
    "    \n",
    "    # Construct new SCF eigenvector matrix\n",
    "    C = A.dot(C)\n",
    "    \n",
    "    # Form the density matrix\n",
    "    Cocc = C[:, :ndocc]\n",
    "    D = np.einsum('pi,qi->pq', Cocc, Cocc)"
   ]
  },
  {
   "cell_type": "markdown",
   "metadata": {},
   "source": [
    "## Test against <span style=\"font-variant: small-caps\">Psi4</span>"
   ]
  },
  {
   "cell_type": "code",
   "execution_count": null,
   "metadata": {
    "collapsed": false
   },
   "outputs": [],
   "source": [
    "# The energy that you obtain above must match the energy that Psi4 produces (at least\n",
    "# to the extent that you converged the energy). If you do not match check your code\n",
    "# for bugs!\n",
    "psi4.set_options({'basis': 'sto-3g',\n",
    "                  'scf_type': 'pk',\n",
    "                  'e_convergence': 1e-10})\n",
    "psi4.energy('scf')"
   ]
  }
 ],
 "metadata": {
  "anaconda-cloud": {},
  "kernelspec": {
   "display_name": "Python [default]",
   "language": "python",
   "name": "python3"
  },
  "language_info": {
   "codemirror_mode": {
    "name": "ipython",
    "version": 3
   },
   "file_extension": ".py",
   "mimetype": "text/x-python",
   "name": "python",
   "nbconvert_exporter": "python",
   "pygments_lexer": "ipython3",
   "version": "3.5.2"
  }
 },
 "nbformat": 4,
 "nbformat_minor": 1
}

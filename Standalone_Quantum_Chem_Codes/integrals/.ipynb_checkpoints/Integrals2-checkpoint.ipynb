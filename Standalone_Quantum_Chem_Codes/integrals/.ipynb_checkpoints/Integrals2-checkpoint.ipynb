{
 "cells": [
  {
   "cell_type": "markdown",
   "metadata": {},
   "source": [
    "# Integrals\n",
    "\n",
    "**This assignment is due Wednesday, February 1 at 5PM by email.**\n",
    "\n",
    "For this assignment you will be computing the overlap, kinetic, and dipole integrals.  You will then incorporate your integral code into your SCF code from the previous programming assignment. Finally, using your converged one-particle density matrix you are to compute the dipole moment of the molecule.\n",
    "\n",
    "## Recurrence formula for one-electron integrals over Gaussian functions\n",
    "### Cartesian Gaussian functions\n",
    "We write the unnormalized Cartesian Gaussian function with origin at $\\mathbf R$ as\n",
    "\\begin{equation}\n",
    "\\phi(\\mathbf r; \\alpha, \\mathbf n, \\mathbf R) = (x - \\mathbf R_x)^{n_x} (y - \\mathbf R_y)^{n_y} (z - \\mathbf R_z)^{n_z} \\exp[-\\alpha (\\mathbf r - \\mathbf R)^2\n",
    "\\end{equation}\n",
    "where $\\mathbf r = (x, y, z)$ represents the coordinates of the electron, $\\alpha$ is the orbital exponent, and $\\mathbf n$ denotes a set of nonnegative integers $n_x$, $n_y$, and $n_z$:\n",
    "\\begin{equation}\n",
    "\\mathbf n = (n_x, n_y, n_z) \\ .\n",
    "\\end{equation}\n",
    "The normalization constant of the function is then given by\n",
    "\\begin{equation}\n",
    "N(\\alpha, \\mathbf n) = \\left(\\frac{2\\alpha}{\\pi}\\right)^{3/4} (4\\alpha)^{(n_x + n_y + n_z)/2} [(2n_x-1)!!\\ (2n_y-1)!!\\ (2n_z-1)!!]^{-1/2}\n",
    "\\end{equation}\n",
    "\n",
    "Letting $\\lambda$ be defined as the sum of $n_x$, $n_y$, and $n_z$, one notes that it is closely related to the total angular momentum quantum number. $\\lambda$ and $\\mathbf n$ will be hereafter termed the angular momentum and the angular momentum index, respectively. The functions with $\\lambda$ equal to $0,1,2,\\ldots$, are referred to as $s,p,d,\\ldots$, respectively. A set of $(\\lambda+1)(\\lambda+2)/2$ functions at $\\mathbf R$ associated with the same angular momentum $\\lambda$ and orbital exponent $\\alpha$ constitute a *shell*, and the functions in the shell are *components* of the shell. The single component of the *s* shell with the angular momentum index $\\mathbf 0 = (0,0,0)$ is usually designated *s*. The components of the *p* shell have the angular momentum indices $\\mathbf 1_i\\ (i=x,y,z)$, where  $\\mathbf 1_i$ is defined by\n",
    "\\begin{equation}\n",
    "\\mathbf 1_i = (\\delta_{ix},\\delta_{iy},\\delta_{iz})\n",
    "\\end{equation}\n",
    "with Kronecker's deltas. These components will be designated $p_x$, $p_y$, and $p_z$. The components of the  *d* shell with the angular momentum indices $\\mathbf 1_i + \\mathbf 1_j\\ (i,j=x,y,z)$ will be designated $d_{x^2}$, $d_{y^2}$, $d_{z^2}$, $d_{xy}$, $d_{xz}$, and $d_{yz}$. In later discussions all the components  in a shell are assumed to be exhausted as the basic functions, and to be treated together in the computation of molecular integrals.\n",
    "\n",
    "First we give the basic equations for Cartesians Gaussian functions that will be utilized in the following derivations of molecular integrals. The Cartesian Gaussian functions satisfy the differential relation\n",
    "\\begin{equation}\n",
    "\\frac{\\partial}{\\partial R_i} \\phi(\\mathbf r; \\alpha, \\mathbf n, \\mathbf R) = 2\\alpha \\phi(\\mathbf r; \\alpha, \\mathbf n + \\mathbf 1_i, \\mathbf R) - N_i(\\mathbf n)\\phi(\\mathbf r; \\alpha, \\mathbf n - \\mathbf 1_i, \\mathbf R) \\qquad (i=x,y,z)\n",
    "\\end{equation}\n",
    "where $N_i(\\mathbf n)$, standing for $n_i$, is meant to take the value of the *i* component of the angular momentum index $\\mathbf n$, and thus  $N_i(\\mathbf 1_j)$ plays the same role as the Kronecker's delta $\\delta_{ij}$.\n",
    "\n",
    "### Two-center overlap integrals\n",
    "Two-center overlap integrals over unnormalized Cartesian Gaussian functions are of the form:\n",
    "\\begin{equation}\n",
    "(\\mathbf a|\\mathbf b) = \\int d\\mathbf r\\ \\phi(\\mathbf r; \\alpha_a, \\mathbf a, \\mathbf A)\\phi(\\mathbf r; \\alpha_b, \\mathbf b, \\mathbf B)\n",
    "\\end{equation}\n",
    "According to the differential relation above the integral $(\\mathbf a+\\mathbf 1_i|\\mathbf b)$ can be decomposed as\n",
    "\\begin{equation}\n",
    "(\\mathbf a+\\mathbf 1_i|\\mathbf b) = \\frac{1}{2\\alpha_a} \\frac{\\partial}{\\partial \\mathbf A_i} (\\mathbf a|\\mathbf b) + \\frac{1}{2\\alpha_a} N_i(\\mathbf a) (\\mathbf a - \\mathbf 1_i|\\mathbf b)\n",
    "\\end{equation}\n",
    "Here the integral can be $(\\mathbf a | \\mathbf b)$ can be factored as\n",
    "\\begin{equation}\n",
    "(\\mathbf a | \\mathbf b) = \\kappa_{ab}\\ I_x(n_{ax},n_{bx})\\ I_y(n_{ay},n_{by})\\ I_z(n_{az},n_{bz})\n",
    "\\end{equation}\n",
    "where\n",
    "\\begin{align}\n",
    "\\kappa_{ab} =& \\exp[-\\xi (\\mathbf A - \\mathbf B)^2] \\\\\n",
    "\\xi =& \\frac{\\alpha_a \\alpha_b}{\\alpha_a + \\alpha_b} \\\\\n",
    "\\alpha =& \\alpha_a + \\alpha_b \\\\\n",
    "\\mathbf P =& \\frac{\\alpha_a \\mathbf A + \\alpha_b \\mathbf B}{\\alpha_a + \\alpha_b}\n",
    "\\end{align}\n",
    "and\n",
    "\\begin{align}\n",
    "I_i(n_{ai}, n_{bi}) =& \\left(\\frac{\\pi}{\\alpha_a + \\alpha_b}\\right)^{\\tfrac{1}{2}} \\\\\n",
    " &\\times \\sum_{k_{ai}=0}^{n_{ai}} \\sum_{k_{bi}=0}^{n_{bi}} \\binom{n_{ai}}{k_{ai}} \\binom{n_{bi}}{k_{bi}} \\\\\n",
    " &\\times (\\mathbf P_i - \\mathbf A_i)^{n_{ai}-k_{ai}} (\\mathbf P_i - \\mathbf B_i)^{n_{bi}-k_{bi}} \\\\\n",
    " &\\times \\frac{(k_{ai} + k_{bi} - 1)!!}{(2\\alpha)^{k_{ai}+k_{bi}}}\n",
    "\\end{align}\n",
    "Differentiating $\\kappa_{ab}$ and $I_i(n_{ai}, n_{bi})$ with respect to $A_i$, we have\n",
    "\\begin{equation}\n",
    "\\frac{1}{2\\alpha_a}\\ \\frac{\\partial}{\\partial A_i} \\kappa_{ab} = (P_i - A_i) \\kappa_{ab}\n",
    "\\end{equation}\n",
    "and\n",
    "\\begin{equation}\n",
    "\\frac{1}{2\\alpha_a}\\ \\frac{\\partial}{\\partial A_i} I_i(n_{ai}, n_{bi}) = n_{ai}\\left\\{\\frac{1}{2\\alpha} - \\frac{1}{2\\alpha_a}\\right\\} I_i(n_{ai} - 1, n_{bi}) + n_{bi} \\frac{1}{2\\alpha} I_i(n_{ai}, n_{bi} - 1)\n",
    "\\end{equation}\n",
    "Substituting these two equations into the either expression for $(\\mathbf a+\\mathbf 1_i|\\mathbf b)$ yields\n",
    "\\begin{equation}\n",
    "(\\mathbf a+\\mathbf 1_i|\\mathbf b) = (P_i - A_i)(\\mathbf a|\\mathbf b) + \\frac{1}{2\\alpha} N_i(\\mathbf a)(\\mathbf a-\\mathbf 1_i|\\mathbf b) + \\frac{1}{2\\alpha} N_i(\\mathbf b)(\\mathbf a|\\mathbf b-\\mathbf 1_i)\n",
    "\\end{equation}\n",
    "and similarily\n",
    "\\begin{equation}\n",
    "(\\mathbf a|\\mathbf b+\\mathbf 1_i) = (P_i - B_i)(\\mathbf a|\\mathbf b) + \\frac{1}{2\\alpha} N_i(\\mathbf a)(\\mathbf a-\\mathbf 1_i|\\mathbf b) + \\frac{1}{2\\alpha} N_i(\\mathbf b)(\\mathbf a|\\mathbf b-\\mathbf 1_i)\n",
    "\\end{equation}\n",
    "The integral over $s$ functions is given by\n",
    "\\begin{equation}\n",
    "(\\mathbf 0_A | \\mathbf 0_B) = \\left(\\frac{\\pi}{\\alpha}\\right)^{3/2} \\exp[-\\xi(\\mathbf A-\\mathbf B)^2]\n",
    "\\end{equation}\n",
    "\n",
    "Given the recursive equations given above it should seen that the recursion only depends on $\\mathbf P-\\mathbf A$, $\\mathbf P-\\mathbf B$, $\\alpha$, and the target angular momentum of $\\mathbf a$ and $\\mathbf b$. The starting point of the recursion $(\\mathbf 0_A | \\mathbf 0_B)$ can be accounted for after the recursion has been performed.\n",
    "\n",
    "### Recurrence expressions for overlap integrals over $s$, $p$, and $d$  Cartesian Gaussian funcions\n",
    "\\begin{align}\n",
    "(s|s) =& \\left(\\frac{\\pi}{\\alpha}\\right)^{3/2} \\exp\\left\\{-\\xi(\\mathbf A-\\mathbf B)^2\\right\\} \\\\\n",
    "(p_i|s) =& (P_i - A_i)(s|s) \\\\\n",
    "(p_i|p_j) =& (P_j - B_j)(p_i|s) + \\frac{\\delta_{ij}}{2\\alpha}(s|s) \\\\\n",
    "(d_{ij}|s) =& (P_j-A_j)(p_i|s) + \\frac{\\delta_{ij}}{2\\alpha}(s|s) \\\\\n",
    "(d_{ij}|p_k) =& (P_k-B_k)(d_{ij}|s) + \\frac{\\delta_{ik}}{2\\alpha}(p_j|s) + \\frac{\\delta_{jk}}{2\\alpha}(p_i|s) \\\\\n",
    "(d_{ij}|d_{kl}) =& (P_l-B_l)(d_{ij}|p_k) + \\frac{\\delta_{il}}{2\\alpha}(p_j|p_k) + \\frac{\\delta_{jl}}{2\\alpha}(p_i|p_k) + \\frac{\\delta_{kl}}{2\\alpha}(d_{ij}|s) \\\\\n",
    "\\\\\n",
    "& (i,j,k,l = x,y,z)\n",
    "\\end{align}\n",
    "\n",
    "### Cartesian function ordering that Psi4 uses:\n",
    "\\begin{align}\n",
    "\\mathbf s &= s \\\\\n",
    "\\mathbf p &= p_x, p_y, p_z \\\\\n",
    "\\mathbf d &= d_{x^2}, d_{xy}, d_{xz}, d_{y^2}, d_{yz}, d_{z^2} \\\\\n",
    "\\mathbf f &= f_{x^3}, f_{x^2y}, f_{x^2z}, f_{xy^2}, f_{xyz}, f_{xz^2}, f_{y^3}, f_{y^2z}, f_{yz^2}, f_{z^3}\n",
    "\\end{align}\n",
    "\n",
    "## One electron integrals\n",
    "It is now time to proceed to computing the following one-electron integrals:\n",
    "- overlap\n",
    "- kinetic\n",
    "- dipole moment\n",
    "\n",
    "I am not asking you to compute the nuclear attraction integrals or the two-electron repulsion integrals because of their added complexity.\n",
    "\n",
    "### Kinetic energy integrals \n",
    "Before proceeding to an analysis of the kinetic energy integral, it will prove convenient to establish a short hard notation for integrals realted to the overlap integral:\n",
    "\\begin{equation}\n",
    "(0|0) = \\int G(\\alpha_1, \\mathbf A, l_1, m_1, n_1) G(\\alpha_2, \\mathbf B, l_2, m_2, n_2)\\ d\\tau\n",
    "\\end{equation}\n",
    "The symbol $<+\\mathrm{n}|0>_{\\mathrm{x}}$ will denote an integral of the form given by the above equation, except that the quantum number $l_1$ has been incremented by n. Similar notations will apply to the $m_1$ and $n_1$ quantum numbers by the use of subscripts x and y.  We will also use the symbols $<0|+\\mathrm{n}>_{\\mathrm{x}}$, where we have incremented the quantum number $l_2$ by n. You should see the pattern.\n",
    "\n",
    "The kinetic energy integral is defined as\n",
    "\\begin{equation}\n",
    "T_{ij} = -\\frac{1}{2} \\int \\phi_i(1) \\nabla_1^2 \\phi_j(1)\\ d\\tau_1\n",
    "\\end{equation}\n",
    "and as\n",
    "\\begin{equation}\n",
    "KE = - \\frac{1}{2}  \\int G(\\alpha_1, \\mathbf A, l_1, m_1, n_1) \\left(\\frac{\\partial^2}{\\partial x^2} + \\frac{\\partial^2}{\\partial y^2} + \\frac{\\partial^2}{\\partial z^2}\\right) G(\\alpha_2, \\mathbf B, l_2, m_2, n_2)\\ d\\tau\n",
    "\\end{equation}\n",
    "\n",
    "Evaluate the kinetic energy integral for $I_x$, $I_y$, and $I_z$ and code them up to obtain $T_{ij}$. The equations that you obtain are \"unsymmetric\" because the integrals which appear in the equations are of the form where the quantum numbers f the GTF centered on $\\mathbf B$ are altered while those of the GTF on $\\mathbf A$ are not.\n",
    "\n",
    "Here is the symmetric form of the kinetic energy integral $I_x$ component.\n",
    "\\begin{equation}\n",
    "I_x = \\frac{1}{2}\\Big\\{l_1 l_2 (-1|-1)_{\\mathrm{x}} + 4\\alpha_1 \\alpha_2 (+1|+1)_{\\mathrm{x}} - 2\\alpha_1 l_2 (+1|-1)_{\\mathrm{x}} - 2\\alpha_2 l_1 (-1|+1)_{\\mathrm{x}}\\Big\\}\n",
    "\\end{equation}\n",
    "\n",
    "### Dipole moment integrals\n",
    "We discuss these non-energy integrals here because of the frequency of their use, and their close connection with the overlap and kinetic energy integrals. The dipole moment is defined with respect to a point in space $\\mathbf C$. Almost always $\\mathbf C$ is taken to be the center of mass. Fortunately, for you Psi4 automatically moves the molecule to be centered on the center of mass and thus $\\mathbf C$ is $\\mathbf 0$. The dipole moment integral is written for the $x$ direction as\n",
    "\\begin{equation}\n",
    "d_{\\mathrm{x}} =  \\int G(\\alpha_1, \\mathbf A, l_1, m_1, n_1) G(\\alpha_2, \\mathbf B, l_2, m_2, n_2) \\mathrm{x_c}\\ d\\tau\n",
    "\\end{equation}\n",
    "and similarly for the operators $\\mathrm{y_c}$ and $\\mathrm{z_c}$. A convenient procedure is to redefine $\\mathrm{x_c}$ in terms of  $\\mathrm{x_A}$ or $\\mathrm{x_B}$, and we will use $\\mathrm{x_A}$. Thus\n",
    "\\begin{equation}\n",
    "\\mathrm{x_c} = \\mathrm{x} - \\mathrm{C_x} = (\\mathrm{x - A_x}) + (\\mathrm{A_x - C_x}) = \\mathrm{x_A + \\mathbf {AC}_x}\n",
    "\\end{equation}\n",
    "and we find\n",
    "\\begin{equation}\n",
    "d_\\mathrm{x} = (+1|0)_{\\mathrm{x}} + \\mathbf{AC}_{\\mathrm{x}} (0|0)\n",
    "\\end{equation}\n",
    "Similarily for $d_{\\mathrm{y}}$ and $d_{\\mathrm{z}}$.\n",
    "\n",
    "#### The x component\n",
    "\\begin{align}\n",
    "\\mu_x =& - \\mu_{\\mathrm{elec}} + \\mu_{\\mathrm{nuclear}}\\\\\n",
    "\\mu_x =& - \\sum_{\\mu \\nu}^{\\mathrm{AO}} D_{\\mu \\nu} d_{\\mu \\nu}^{x} + \\sum_A^N Z_A X_A\n",
    "\\end{align}\n",
    "\n",
    "You can obtain the nuclear contribution to the dipole $\\mu_{\\mathrm{nuclear}}$ from Psi4 using\n",
    "\n",
    "    psi4.core.nuclear_dipole(molecule).to_array()\n",
    "\n",
    "#### The total dipole moment\n",
    "\\begin{equation}\n",
    "\\mu = \\sqrt{\\mu_x^2 + \\mu_y^2 + \\mu_z^2}\n",
    "\\end{equation}"
   ]
  },
  {
   "cell_type": "markdown",
   "metadata": {
    "collapsed": true
   },
   "source": [
    "## Load Psi4 and NumPy"
   ]
  },
  {
   "cell_type": "code",
   "execution_count": null,
   "metadata": {
    "collapsed": false
   },
   "outputs": [],
   "source": [
    "import psi4\n",
    "import numpy as np\n",
    "\n",
    "# I'll show some plots\n",
    "import matplotlib.pyplot as plt\n",
    "\n",
    "# Load in the required options\n",
    "import configparser\n",
    "config = configparser.ConfigParser()\n",
    "config.read('Options.ini')\n",
    "\n",
    "molecule = psi4.geometry(config['DEFAULT']['molecule'])\n",
    "\n",
    "# For your integrals code to match Psi4's ordering you must include \"puream=0\"\n",
    "basis = psi4.core.BasisSet.build(molecule, 'BASIS', 'STO-3G', puream=0)\n",
    "mints = psi4.core.MintsHelper(basis)"
   ]
  },
  {
   "cell_type": "markdown",
   "metadata": {},
   "source": [
    "## Determine some information about the basis set"
   ]
  },
  {
   "cell_type": "code",
   "execution_count": null,
   "metadata": {
    "collapsed": false
   },
   "outputs": [],
   "source": [
    "# Look at the help documentation for the basis set\n",
    "help(basis)\n",
    "help(psi4.core.GaussianShell)"
   ]
  },
  {
   "cell_type": "code",
   "execution_count": null,
   "metadata": {
    "collapsed": false
   },
   "outputs": [],
   "source": [
    "print('The number of shells: %d' % (basis.nshell()))\n",
    "print('The number of basis functions: %d' % (basis.nao()))"
   ]
  },
  {
   "cell_type": "code",
   "execution_count": null,
   "metadata": {
    "collapsed": false
   },
   "outputs": [],
   "source": [
    "# Print out some information about the shells in the basis set\n",
    "for ishell in range(basis.nshell()):\n",
    "    shell = basis.shell(ishell)\n",
    "    print('Shell %d:' % (ishell))\n",
    "    print('  Atom: %d' % (shell.ncenter))\n",
    "    print('  AM: %d' % (shell.am))\n",
    "    print('  # Cartesian functions: %d' % (shell.ncartesian))\n",
    "    print('  # of primitive Gaussians: %d ' % (shell.nprimitive))\n",
    "    print('  function_index: %d' % (shell.function_index))\n",
    "    print('  center: %f, %f, %f' % (molecule.x(shell.ncenter), molecule.y(shell.ncenter), molecule.z(shell.ncenter)))"
   ]
  },
  {
   "cell_type": "markdown",
   "metadata": {},
   "source": [
    "### Let's plot some of the functions to see what they look like"
   ]
  },
  {
   "cell_type": "code",
   "execution_count": null,
   "metadata": {
    "collapsed": false
   },
   "outputs": [],
   "source": [
    "# This is to show you have to access individual shells and access their coefficients and exponents.\n",
    "shell0 = basis.shell(0)\n",
    "\n",
    "# generate a list of points to evaluate the basis function (R=0 to 10 in 100 points)\n",
    "R = np.linspace(0, 2, 100, endpoint=True)\n",
    "\n",
    "# Plot each primitive\n",
    "for idx in range(shell0.nprimitive):\n",
    "    v = shell0.coef(idx) * np.exp(-shell0.exp(idx) * R**2)\n",
    "    plt.plot(R, v)\n",
    "plt.show()"
   ]
  },
  {
   "cell_type": "markdown",
   "metadata": {
    "collapsed": true
   },
   "source": [
    "### Write the recursion function\n",
    "Write a function that performs the OS recursion for a given set of $\\mathbf{PA}$, $\\mathbf{PB}$, $\\alpha$, and two angular momenta (for $\\mathbf a$ and $\\mathbf b$) values. At this point do not worry about solving $(\\mathbf 0 | \\mathbf 0)$ just set it to $1.0$ and you'll account for it later.  This function should also return three matrices containing the x, y, and z results."
   ]
  },
  {
   "cell_type": "code",
   "execution_count": null,
   "metadata": {
    "collapsed": false
   },
   "outputs": [],
   "source": [
    "import numpy as np\n",
    "from collections import namedtuple\n",
    "RecursionResults = namedtuple('RecursionResults', ['x', 'y', 'z'])\n",
    "\n",
    "def os_recursion(PA, PB, alpha, AMa, AMb):\n",
    "    if len(PA) != 3 or len(PB) != 3:\n",
    "        raise \"\"\n",
    "        \n",
    "    # Allocate the x, y, and z matrices.\n",
    "    #  Why do I add 1 here?\n",
    "    x = np.zeros((AMa+1, AMb+1))\n",
    "    y = np.zeros((AMa+1, AMb+1))\n",
    "    z = np.zeros((AMa+1, AMb+1))\n",
    "    \n",
    "    # Perform the recursion\n",
    "    \n",
    "    # Return the results\n",
    "    return RecursionResults(x, y, z)\n",
    "\n",
    "results = os_recursion([0.0, 0.0, 0.0], [0.0, 0.0, 0.0], 1.0, 1, 1)\n",
    "print(results)\n",
    "print(results.x)"
   ]
  },
  {
   "cell_type": "markdown",
   "metadata": {
    "collapsed": true
   },
   "source": [
    "### Sample x, y, and z matrices"
   ]
  },
  {
   "cell_type": "code",
   "execution_count": null,
   "metadata": {
    "collapsed": false
   },
   "outputs": [],
   "source": [
    "import OS"
   ]
  },
  {
   "cell_type": "code",
   "execution_count": null,
   "metadata": {
    "collapsed": false
   },
   "outputs": [],
   "source": [
    "(x, y, z) = OS.os_recursion([1.0, 2.0, 3.0], [3.0, 2.0, 1.0], 1.0, 3, 3)\n",
    "print('x=\\n', x)\n",
    "print('y=\\n', y)\n",
    "print('z=\\n', z)"
   ]
  },
  {
   "cell_type": "code",
   "execution_count": null,
   "metadata": {
    "collapsed": false
   },
   "outputs": [],
   "source": [
    "dipole = [x.to_array() for x in mints.ao_dipole()]\n",
    "print(dipole)\n",
    "psi4.core.nuclear_dipole(molecule).to_array()"
   ]
  },
  {
   "cell_type": "code",
   "execution_count": null,
   "metadata": {
    "collapsed": true
   },
   "outputs": [],
   "source": []
  }
 ],
 "metadata": {
  "anaconda-cloud": {},
  "kernelspec": {
   "display_name": "Python 3",
   "language": "python",
   "name": "python3"
  },
  "language_info": {
   "codemirror_mode": {
    "name": "ipython",
    "version": 3
   },
   "file_extension": ".py",
   "mimetype": "text/x-python",
   "name": "python",
   "nbconvert_exporter": "python",
   "pygments_lexer": "ipython3",
   "version": "3.5.2"
  }
 },
 "nbformat": 4,
 "nbformat_minor": 2
}

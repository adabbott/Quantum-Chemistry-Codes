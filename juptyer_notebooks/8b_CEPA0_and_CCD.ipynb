{
 "cells": [
  {
   "cell_type": "code",
   "execution_count": 1,
   "metadata": {
    "collapsed": true
   },
   "outputs": [],
   "source": [
    "\"\"\"Tutorial: CEPA0 and CCD\"\"\"\n",
    "\n",
    "__author__    = \"Adam S. Abbott\"\n",
    "__credit__    = [\"Adam S. Abbott\", \"Justin M. Turney\"]\n",
    "\n",
    "__copyright__ = \"(c) 2014-2017, The Psi4NumPy Developers\"\n",
    "__license__   = \"BSD-3-Clause\"\n",
    "__date__      = \"2017-05-23\""
   ]
  },
  {
   "cell_type": "markdown",
   "metadata": {},
   "source": [
    "# Introduction\n",
    "In this tutorial, we will code up the coupled-electron pair approximation (CEPA0) and coupled-cluster doubles (CCD) using our spin-orbital framework covered in the previous tutorial.\n",
    "\n",
    "\n",
    "### I. Coupled Cluster Theory\n",
    "\n",
    "In single-reference coupled cluster theory, dynamic correlation is acquired by operating an exponential of cluster operators on some reference determinant, such as a Hartree-Fock wavefunction, to obtain a new wavefunction:\n",
    "\n",
    "\\begin{equation}\n",
    "\\mid \\Psi_{CC} \\rangle = exp(\\hat{T}) \\mid \\Phi \\rangle \n",
    "\\end{equation}\n",
    "\n",
    "where $\\hat{T} = T_1 + T_2 + ... + T_n$ is the sum of \"cluster operators\" which which act on our reference to excite electrons from occupied ($i, j, k$...) to virtual ($a, b, c$...) orbitals. In the second quantization, these cluster operators are expressed as:\n",
    "\n",
    "\\begin{equation}\n",
    "T_n = \\left(\\frac{1}{k!}\\right)^2 \\sum_{\\substack{i_1 \\ldots i_k \\\\ a_1 \\ldots a_k }} t_{i_1 \\ldots i_k}^{a_1 \\ldots a_k}   a_{a_1}^{\\dagger} \\ldots a_{a_k}^{\\dagger} a_{i_k} \\ldots a_{i_1}\n",
    "\\end{equation}\n",
    "\n",
    "where $t$ is the $t$-amplitude, and $a^{\\dagger}$ and $a$ are creation and annihilation operators.\n",
    "\n",
    "### II. Coupled Cluster Doubles\n",
    "For CCD, we only include the doubles cluster operator:\n",
    "\n",
    "\\begin{equation}\n",
    "\\mid \\Psi_{CCD} \\rangle = exp(\\hat{T_2}) \\mid \\Phi \\rangle\n",
    "\\end{equation}\n",
    "\n",
    "I will spare you the details, but if one projects the CCD Schr&ouml;dinger equation on the left by a doubly-excited reference determinant $ \\langle\\Phi_{ij}^{ab}\\mid $, evaluates the diagrams, and rearranges the terms, one obtains the equation for the CCD amplitudes: \n",
    "\n",
    "\\begin{equation}\n",
    "t_{ab}^{ij} = (\\mathcal{E}_{ab}^{ij})^{-1} \\left( \\overline{g}_{ab}^{ij} + \\tfrac{1}{2} \\overline{g}_{ab}^{cd} t_{cd}^{ij} + \\tfrac{1}{2} \\overline{g}_{kl}^{ij} t_{ab}^{kl}  + \\hat{P}_{(a \\space / \\space b)}^{(i \\space / \\space j)} \\overline{g}_{ak}^{ic} t_{bc}^{jk} - \\tfrac{1}{2}\\hat{P}_{(a \\space / \\space b)} \\overline{g}_{kl}^{cd} t_{ac}^{ij} t_{bd}^{kl} - \\tfrac{1}{2}  \\hat{P}^{(i \\space / \\space j)} \\overline{g}_{kl}^{cd} t_{ab}^{ik} t_{cd}^{jl} + \\tfrac{1}{4} \\overline{g}_{kl}^{cd} t_{cd}^{ij} t_{ab}^{kl} +  \\hat{P}^{(i \\space / \\space j)} \\overline{g}_{kl}^{cd} t_{ac}^{ik} t_{bd}^{jl} \\right)\n",
    "\\end{equation}\n",
    "\n",
    "where $(\\mathcal{E}_{ab}^{ij})^{-1}$ is the orbital energy denominator, more familiarly known as $\\frac{1}{\\epsilon_i + \\epsilon_j - \\epsilon_a - \\epsilon_b}$ and $\\overline{g}_{pq}^{rs}$ is the antisymmetrized two-electron integral in physicist's notation $\\langle pq \\mid\\mid rs \\rangle$. $\\hat{P}$ is the *antisymmetric permutation operator*. This operator acts on a term to produce the sum of the permutations of the indicated indices, with an appropriate sign factor. It's effect is best illustrated by an example. Consider the fourth term, which is really 4 terms in one. $\\hat{P}_{(a \\space / \\space b)}^{(i \\space / \\space j)}$ produces: \n",
    "1. The original: $ \\quad \\quad \\quad \\quad \\quad \\quad \\space \\overline{g}_{ak}^{ic} t_{bc}^{jk} $\n",
    "2. Permuation of $a$ and $b$: $ \\quad \\quad - \\overline{g}_{bk}^{ic} t_{ac}^{jk} $\n",
    "3. Permuation of $i$ and $j$: $ \\quad \\space \\quad - \\overline{g}_{ak}^{jc} t_{bc}^{ik} $\n",
    "4. Permuation of $a$ and $b$, $i$ and $j$: $ \\space \\overline{g}_{bk}^{jc} t_{ac}^{ik} $\n",
    "\n",
    "Note that each permutation adds a sign change. This shorthand notation keeps the equation in a more manageable form. \n",
    "\n",
    "The corresponding energy expression can be obtained in somewhat similar way, this time by projecting CCD Schr&ouml;dinger equation on the left by $\\langle \\Phi \\mid$. This yields:\n",
    "\n",
    "\\begin{equation}\n",
    "E_{CCD} = \\tfrac{1}{4} \\overline{g}_{ij}^{ab} t_{ab}^{ij}\n",
    "\\end{equation}\n",
    "\n",
    "Since the $t$ amplitude is dependent on the $t$ amplitude, we must iteratively  solve for the energy iteratively until it converges to some convergence threshold. \n",
    "\n",
    "### III. Retrieving MP2 and CEPA0 from the CCD equations\n",
    "It is interesting to note that if we only consider the first term of the expression for the doubles amplitude $t_{ab}^{ij}$ and plug it into the energy expression, we obtain the MP2 energy expression:\n",
    "\n",
    "\\begin{equation}\n",
    "t_{ab}^{ij} = (\\mathcal{E}_{ab}^{ij})^{-1} \\overline{g}_{ab}^{ij} \n",
    "\\end{equation}\n",
    "\n",
    "\\begin{equation}\n",
    "E_{MP2} = \\tfrac{1}{4}  \\overline{g}_{ab}^{ij} t_{ij}^{ab}  = \\tfrac{1}{4} \\overline{g}_{ab}^{ij} \\overline{g}_{ij}^{ab}  (\\mathcal{E}_{ab}^{ij})^{-1}\n",
    "\\end{equation}\n",
    "\n",
    "Furthermore, if we leave out the quadratic terms in the CCD amplitude equation (terms containing two $t$-amplitudes), we obtain the coupled electron-pair approximation (CEPA0):\n",
    "\\begin{equation}\n",
    "t_{ab}^{ij} = (\\mathcal{E}_{ab}^{ij})^{-1} \\left( \\overline{g}_{ab}^{ij} + \\tfrac{1}{2} \\overline{g}_{ab}^{cd} t_{cd}^{ij} + \\tfrac{1}{2} \\overline{g}_{kl}^{ij} t_{ab}^{kl}  + \\hat{P}_{(a \\space / \\space b)}^{(i \\space / \\space j)} \\overline{g}_{ak}^{ic} t_{bc}^{jk} \\right)\n",
    "\\end{equation}\n",
    "\n",
    "and the CEPA0 energy expression is identical:\n",
    "\n",
    "\\begin{equation}\n",
    "E_{CEPA0} = \\tfrac{1}{4} \\overline{g}_{ij}^{ab} t_{ab}^{ij}\n",
    "\\end{equation}\n",
    "\n",
    "Using our spin-orbital setup for the MO coefficients, orbital energies, and two-electron integrals used in the previous tutorial, we are equipped to program the expressions for the CEPA0 and CCD correlation energy directly."
   ]
  },
  {
   "cell_type": "markdown",
   "metadata": {},
   "source": [
    "### CEPA0 and CCD\n",
    "As usual, we import Psi4 and Numpy, and set the appropriate options. "
   ]
  },
  {
   "cell_type": "code",
   "execution_count": null,
   "metadata": {
    "collapsed": true
   },
   "outputs": [],
   "source": [
    "# ==> Import statements & Global Options <==\n",
    "import psi4\n",
    "import numpy as np\n",
    "\n",
    "psi4.set_memory(int(2e9))\n",
    "numpy_memory = 2\n",
    "psi4.core.set_output_file('output.dat', False)"
   ]
  },
  {
   "cell_type": "code",
   "execution_count": null,
   "metadata": {
    "collapsed": true
   },
   "outputs": [],
   "source": [
    "# ==> Molecule & Psi4 Options Definitions <==\n",
    "mol = psi4.geometry(\"\"\"\n",
    "0 1\n",
    "O\n",
    "H 1 1.1\n",
    "H 1 1.1 2 104\n",
    "symmetry c1\n",
    "\"\"\")\n",
    "\n",
    "\n",
    "\n",
    "psi4.set_options({'basis':        '6-31g',\n",
    "                  'scf_type':     'pk',\n",
    "                  'reference':    'rhf'\n",
    "                  'mp2_type':     'conv',\n",
    "                  'e_convergence': 1e-8,\n",
    "                  'd_convergence': 1e-8})"
   ]
  },
  {
   "cell_type": "markdown",
   "metadata": {},
   "source": [
    "Note that since we are using a spin-orbital setup, we are free to use any Hartree-Fock reference we want. Here we choose RHF. For convenience, we let Psi4 take care of the Hartree-Fock procedure, and return the wavefunction object."
   ]
  },
  {
   "cell_type": "code",
   "execution_count": null,
   "metadata": {
    "collapsed": true
   },
   "outputs": [],
   "source": [
    "# Get the SCF wavefunction & energies\n",
    "scf_e, scf_wfn = psi4.energy('scf', return_wfn=True)"
   ]
  },
  {
   "cell_type": "markdown",
   "metadata": {},
   "source": [
    "Load in information about the basis set and orbitals using MintsHelper and the wavefunction:"
   ]
  },
  {
   "cell_type": "code",
   "execution_count": null,
   "metadata": {
    "collapsed": true
   },
   "outputs": [],
   "source": [
    "mints = psi4.core.MintsHelper(scf_wfn.basisset())\n",
    "nbf = mints.nbf()           # number of basis functions\n",
    "nso = 2 * nbf               # number of spin orbitals\n",
    "nalpha = scf_wfn.nalpha()   # number of alpha electrons\n",
    "nbeta = scf_wfn.nbeta()     # number of beta electrons\n",
    "nocc = nalpha + nbeta       # number of occupied orbitals\n",
    "nvirt = 2 * nbf - nocc      # number of virtual orbitals"
   ]
  },
  {
   "cell_type": "markdown",
   "metadata": {},
   "source": [
    "Spin-block our MO coefficients and two-electron integrals, just like in the spin-orbital MP2 code:"
   ]
  },
  {
   "cell_type": "code",
   "execution_count": null,
   "metadata": {
    "collapsed": true
   },
   "outputs": [],
   "source": [
    "Ca = np.asarray(scf_wfn.Ca())\n",
    "Cb = np.asarray(scf_wfn.Cb())\n",
    "C = np.block([\n",
    "             [      Ca           ,   np.zeros_like(Cb) ],\n",
    "             [np.zeros_like(Ca)  ,          Cb         ]\n",
    "            ])\n",
    "\n",
    "# Result: | Ca  0 |\n",
    "#         | 0   Cb|\n"
   ]
  },
  {
   "cell_type": "code",
   "execution_count": 1,
   "metadata": {},
   "outputs": [
    {
     "ename": "NameError",
     "evalue": "name 'np' is not defined",
     "output_type": "error",
     "traceback": [
      "\u001b[0;31m---------------------------------------------------------------------------\u001b[0m",
      "\u001b[0;31mNameError\u001b[0m                                 Traceback (most recent call last)",
      "\u001b[0;32m<ipython-input-1-c6c498626e2b>\u001b[0m in \u001b[0;36m<module>\u001b[0;34m()\u001b[0m\n\u001b[1;32m      1\u001b[0m \u001b[0;31m# Get the two electron integrals using MintsHelper\u001b[0m\u001b[0;34m\u001b[0m\u001b[0;34m\u001b[0m\u001b[0m\n\u001b[0;32m----> 2\u001b[0;31m \u001b[0mI\u001b[0m \u001b[0;34m=\u001b[0m \u001b[0mnp\u001b[0m\u001b[0;34m.\u001b[0m\u001b[0masarray\u001b[0m\u001b[0;34m(\u001b[0m\u001b[0mmints\u001b[0m\u001b[0;34m.\u001b[0m\u001b[0mao_eri\u001b[0m\u001b[0;34m(\u001b[0m\u001b[0;34m)\u001b[0m\u001b[0;34m)\u001b[0m\u001b[0;34m\u001b[0m\u001b[0m\n\u001b[0m\u001b[1;32m      3\u001b[0m \u001b[0;34m\u001b[0m\u001b[0m\n\u001b[1;32m      4\u001b[0m \u001b[0;31m# Function that spin blocks two-electron integrals\u001b[0m\u001b[0;34m\u001b[0m\u001b[0;34m\u001b[0m\u001b[0m\n\u001b[1;32m      5\u001b[0m \u001b[0;31m# Using np.kron, we project I and I.transpose into the space of the 2x2 identity\u001b[0m\u001b[0;34m\u001b[0m\u001b[0;34m\u001b[0m\u001b[0m\n",
      "\u001b[0;31mNameError\u001b[0m: name 'np' is not defined"
     ]
    }
   ],
   "source": [
    "# Get the two electron integrals using MintsHelper\n",
    "I = np.asarray(mints.ao_eri())\n",
    "\n",
    "# Function that spin blocks two-electron integrals\n",
    "# Using np.kron, we project I into the space of the 2x2 identity, tranpose the result\n",
    "# and project into the space of the 2x2 identity again. This doubles the size of each axis.\n",
    "# The result is our two electron integral tensor in the spin orbital form.\n",
    "def spin_block_tei(I):\n",
    "    identity = np.eye(2)\n",
    "    I = np.kron(identity, I)\n",
    "    return np.kron(identity, I.T)\n",
    "\n",
    "I_spinblock = spin_block_tei(I)\n"
   ]
  },
  {
   "cell_type": "markdown",
   "metadata": {},
   "source": [
    "Convert two-electron integrals to antisymmetrized physicist's notation:"
   ]
  },
  {
   "cell_type": "code",
   "execution_count": null,
   "metadata": {
    "collapsed": true
   },
   "outputs": [],
   "source": [
    "# Converts chemist's notation to physicist's notation, and antisymmetrize\n",
    "# (pq | rs) ---> <pr | qs>\n",
    "# Physicist's notation\n",
    "tmp = I_spinblock.transpose(0, 2, 1, 3)\n",
    "# Antisymmetrize:\n",
    "# <pr||qs> = <pr | qs> - <pr | sq>\n",
    "gao = tmp - tmp.transpose(0, 1, 3, 2)\n"
   ]
  },
  {
   "cell_type": "markdown",
   "metadata": {},
   "source": [
    "Obtain the orbital energies, append them, and sort the columns of our MO coefficient matrix according to the increasing order of orbital energies. "
   ]
  },
  {
   "cell_type": "code",
   "execution_count": null,
   "metadata": {
    "collapsed": true
   },
   "outputs": [],
   "source": [
    "# Get orbital energies \n",
    "eps_a = np.asarray(scf_wfn.epsilon_a())\n",
    "eps_b = np.asarray(scf_wfn.epsilon_b())\n",
    "eps = np.append(eps_a, eps_b)\n",
    "\n",
    "# Before sorting the orbital energies, we can use their current arrangement to sort the columns\n",
    "# of C. Currently, each element i of eps corresponds to the column i of C, but we want both\n",
    "# eps and columns of C to be in increasing order of orbital energies\n",
    "\n",
    "# Sort the columns of C according to the order of increasing orbital energies \n",
    "C = C[:, eps.argsort()] \n",
    "\n",
    "# Sort orbital energies in increasing order\n",
    "eps = np.sort(eps) \n"
   ]
  },
  {
   "cell_type": "markdown",
   "metadata": {},
   "source": [
    "Finally, we transform our two-electron integrals to the MO basis. Here, we denote the integrals as `gmo` to differentiate from the chemist's notation integrals `I_mo`."
   ]
  },
  {
   "cell_type": "code",
   "execution_count": null,
   "metadata": {
    "collapsed": true
   },
   "outputs": [],
   "source": [
    "# Transform gao, which is the spin-blocked 4d array of physicist's notation, \n",
    "# antisymmetric two-electron integrals, into the MO basis using MO coefficients \n",
    "gmo = np.einsum('pQRS, pP -> PQRS',\n",
    "      np.einsum('pqRS, qQ -> pQRS',\n",
    "      np.einsum('pqrS, rR -> pqRS',\n",
    "      np.einsum('pqrs, sS -> pqrS', gao, C), C), C), C)\n"
   ]
  },
  {
   "cell_type": "markdown",
   "metadata": {},
   "source": [
    "Construct the 4-dimensional array of orbital energy denominators:"
   ]
  },
  {
   "cell_type": "code",
   "execution_count": null,
   "metadata": {
    "collapsed": true
   },
   "outputs": [],
   "source": [
    "# Define slices, create 4 dimensional orbital energy denominator tensor\n",
    "n = np.newaxis\n",
    "o = slice(None, nocc)\n",
    "v = slice(nocc, None)\n",
    "e_abij = 1 / (-eps[v, n, n, n] - eps[n, v, n, n] + eps[n, n, o, n] + eps[n, n, n, o])"
   ]
  },
  {
   "cell_type": "markdown",
   "metadata": {},
   "source": [
    "We now have everything we need to construct our $t$ amplitudes and iteratively solve for our CEPA0 and CCD energy. To build the $t$ amplitudes, we first construct an empty 4-dimensional array to store them. "
   ]
  },
  {
   "cell_type": "code",
   "execution_count": 1,
   "metadata": {},
   "outputs": [
    {
     "ename": "NameError",
     "evalue": "name 'np' is not defined",
     "output_type": "error",
     "traceback": [
      "\u001b[0;31m---------------------------------------------------------------------------\u001b[0m",
      "\u001b[0;31mNameError\u001b[0m                                 Traceback (most recent call last)",
      "\u001b[0;32m<ipython-input-1-f2306089dd1c>\u001b[0m in \u001b[0;36m<module>\u001b[0;34m()\u001b[0m\n\u001b[1;32m      1\u001b[0m \u001b[0;31m# Create space to store t amplitudes\u001b[0m\u001b[0;34m\u001b[0m\u001b[0;34m\u001b[0m\u001b[0m\n\u001b[0;32m----> 2\u001b[0;31m \u001b[0mt_amp\u001b[0m \u001b[0;34m=\u001b[0m \u001b[0mnp\u001b[0m\u001b[0;34m.\u001b[0m\u001b[0mzeros\u001b[0m\u001b[0;34m(\u001b[0m\u001b[0;34m(\u001b[0m\u001b[0mnvirt\u001b[0m\u001b[0;34m,\u001b[0m \u001b[0mnvirt\u001b[0m\u001b[0;34m,\u001b[0m \u001b[0mnocc\u001b[0m\u001b[0;34m,\u001b[0m \u001b[0mnocc\u001b[0m\u001b[0;34m)\u001b[0m\u001b[0;34m)\u001b[0m\u001b[0;34m\u001b[0m\u001b[0m\n\u001b[0m",
      "\u001b[0;31mNameError\u001b[0m: name 'np' is not defined"
     ]
    }
   ],
   "source": [
    "# Create space to store t amplitudes\n",
    "t_amp = np.zeros((nvirt, nvirt, nocc, nocc))\n"
   ]
  },
  {
   "cell_type": "markdown",
   "metadata": {},
   "source": [
    " First we will program CEPA0. Recall the expression for the $t$ amplitudes:\n",
    "\n",
    "\\begin{equation}\n",
    "t_{ab}^{ij} = (\\mathcal{E}_{ab}^{ij})^{-1} \\left( \\overline{g}_{ab}^{ij} + \\tfrac{1}{2} \\overline{g}_{ab}^{cd} t_{cd}^{ij} + \\tfrac{1}{2} \\overline{g}_{kl}^{ij} t_{ab}^{kl}  + \\hat{P}_{(a \\space / \\space b)}^{(i \\space / \\space j)} \\overline{g}_{ak}^{ic} t_{bc}^{jk} \\right)\n",
    "\\end{equation}\n",
    "\n",
    "These terms translate naturally into code using Numpy's einsum function. To access only the occupied and virtual indices of `gmo` we use our slices defined above. The permutation operator terms can be easily obtained by transposing the original result accordingly. To construct each iteration's $t$ amplitude:  \n",
    "\n",
    "~~~python\n",
    "mp2    = gmo[v, v, o, o]\n",
    "cepa1  = (1 / 2) * np.einsum('abcd, cdij -> abij', gmo[v, v, v, v], t_amp)\n",
    "cepa2  = (1 / 2) * np.einsum('klij, abkl -> abij', gmo[o, o, o, o], t_amp)\n",
    "cepa3a = np.einsum('akic, bcjk -> abij', gmo[v, o, o, v], t_amp)\n",
    "cepa3b = -cepa3a.transpose(1, 0, 2, 3)\n",
    "cepa3c = -cepa3a.transpose(0, 1, 3, 2)\n",
    "cepa3d =  cepa3a.transpose(1, 0, 3, 2)\n",
    "cepa3  =  cepa3a + cepa3b + cepa3c + cepa3d\n",
    "\n",
    "t_amp_new = e_abij * (mp2 + cepa1 + cepa2 + cepa3)\n",
    "~~~\n",
    "\n",
    "To evaluate the energy, $E_{CEPA0} = \\tfrac{1}{4} \\overline{g}_{ij}^{ab} t_{ab}^{ij}$,\n",
    "\n",
    "~~~python\n",
    "E_CEPA0 = (1 / 4) * np.einsum('ijab, abij ->', gmo[o, o, v, v], t_amp_new)\n",
    "~~~"
   ]
  },
  {
   "cell_type": "markdown",
   "metadata": {},
   "source": [
    "Putting it all together, we initialize the energy, set the max iterations, and iterate the energy until it falls below our energy convergence criterion:"
   ]
  },
  {
   "cell_type": "code",
   "execution_count": null,
   "metadata": {
    "collapsed": true
   },
   "outputs": [],
   "source": [
    "# Create space to store t amplitudes\n",
    "t_amp = np.zeros((nvirt, nvirt, nocc, nocc))\n",
    "\n",
    "# Initialize energy\n",
    "E_CEPA0 = 0.0\n",
    "\n",
    "MAXITER = 50\n",
    "\n",
    "for cc_iter in range(MAXITER + 1):\n",
    "    E_old = E_CEPA0\n",
    "    \n",
    "    # Collect terms\n",
    "    mp2    = gmo[v, v, o, o]\n",
    "    cepa1  = (1 / 2) * np.einsum('abcd, cdij -> abij', gmo[v, v, v, v], t_amp)\n",
    "    cepa2  = (1 / 2) * np.einsum('klij, abkl -> abij', gmo[o, o, o, o], t_amp)\n",
    "    cepa3a = np.einsum('akic, bcjk -> abij', gmo[v, o, o, v], t_amp)\n",
    "    cepa3b = -cepa3a.transpose(1, 0, 2, 3)\n",
    "    cepa3c = -cepa3a.transpose(0, 1, 3, 2)\n",
    "    cepa3d =  cepa3a.transpose(1, 0, 3, 2)\n",
    "    cepa3  =  cepa3a + cepa3b + cepa3c + cepa3d\n",
    "\n",
    "    # Update t amplitude\n",
    "    t_amp_new = e_abij * (mp2 + cepa1 + cepa2 + cepa3)\n",
    "\n",
    "    # Evaluate Energy\n",
    "    E_CEPA0 = (1 / 4) * np.einsum('ijab, abij ->', gmo[o, o, v, v], t_amp_new)\n",
    "    t_amp = t_amp_new\n",
    "    dE = E_CEPA0 - E_old\n",
    "    print('CEPA0 Iteration %3d: Energy = %4.12f dE = %1.5E' % (cc_iter, E_CEPA0, dE))\n",
    "\n",
    "    if abs(dE) < 1.e-8:\n",
    "        print(\"\\nCEPA0 Iterations have converged!\")\n",
    "        break\n",
    "\n",
    "    if (cc_iter == MAXITER):\n",
    "        psi4.core.clean()\n",
    "        raise Exception(\"\\nMaximum number of iterations exceeded.\")\n",
    "\n",
    "print('\\nCEPA0 Correlation Energy: %5.15f' % (E_CEPA0))\n",
    "print('CEPA0 Total Energy: %5.15f' % (E_CEPA0 + scf_e))"
   ]
  },
  {
   "cell_type": "markdown",
   "metadata": {
    "collapsed": true
   },
   "source": [
    "Since t_amp is initialized to zero, the very first iteration should be the MP2 correlation energy. We can check the final CEPA0 energy with Psi4. The method is called `lccd`, or linear CCD, since CEPA0 omits the terms with two cluster amplitudes."
   ]
  },
  {
   "cell_type": "code",
   "execution_count": null,
   "metadata": {
    "collapsed": true
   },
   "outputs": [],
   "source": [
    "psi4.driver.p4util.compare_values(psi4.energy('lccd'), E_CEPA0 + scf_e, 6, 'CEPA0 Energy')"
   ]
  },
  {
   "cell_type": "markdown",
   "metadata": {},
   "source": [
    "To code up full CCD, we only have to add in the last four terms in our expression for the $t$ amplitude: \n",
    "\n",
    "\\begin{equation}\n",
    "t_{ab}^{ij} = (\\mathcal{E}_{ab}^{ij})^{-1} \\left( \\overline{g}_{ab}^{ij} + \\tfrac{1}{2} \\overline{g}_{ab}^{cd} t_{cd}^{ij} + \\tfrac{1}{2} \\overline{g}_{kl}^{ij} t_{ab}^{kl}  + \\hat{P}_{(a \\space / \\space b)}^{(i \\space / \\space j)} \\overline{g}_{ak}^{ic} t_{bc}^{jk} - \\underline{\\tfrac{1}{2}\\hat{P}_{(a \\space / \\space b)} \\overline{g}_{kl}^{cd} t_{ac}^{ij} t_{bd}^{kl} - \\tfrac{1}{2}  \\hat{P}^{(i \\space / \\space j)} \\overline{g}_{kl}^{cd} t_{ab}^{ik} t_{cd}^{jl} + \\tfrac{1}{4} \\overline{g}_{kl}^{cd} t_{cd}^{ij} t_{ab}^{kl} +  \\hat{P}^{(i \\space / \\space j)} \\overline{g}_{kl}^{cd} t_{ac}^{ik} t_{bd}^{jl}} \\right)\n",
    "\\end{equation}\n",
    "\n",
    "which we readily translate into einsum's:\n",
    "\n",
    "~~~python\n",
    "ccd1a  = np.einsum('klcd, acij, bdkl -> abij', gmo[o, o, v, v], t_amp, t_amp)\n",
    "ccd1b  = -ccd1a.transpose(1, 0, 2, 3)\n",
    "ccd1   = -(1 / 2) * (ccd1a + ccd1b)\n",
    "\n",
    "ccd2a  = np.einsum('klcd, abik, cdjl -> abij', gmo[o, o, v, v], t_amp, t_amp)\n",
    "ccd2b  = -ccd2a.transpose(0, 1, 3, 2)\n",
    "ccd2   = -(1 / 2) * (ccd2a + ccd2b)\n",
    "\n",
    "ccd3   =  (1 / 4) * np.einsum('klcd, cdij, abkl -> abij', gmo[o, o, v, v], t_amp, t_amp)\n",
    "\n",
    "ccd4a  = np.einsum('klcd, acik, bdjl -> abij', gmo[o, o, v, v], t_amp, t_amp)\n",
    "ccd4b  = -ccd4a.transpose(0, 1, 3, 2)\n",
    "ccd4   = (ccd4a + ccd4b)\n",
    "~~~\n",
    "\n",
    "and the energy expression is identical:\n",
    "\\begin{equation}\n",
    "E_{CCD } = \\tfrac{1}{4} \\overline{g}_{ij}^{ab} t_{ab}^{ij}\n",
    "\\end{equation}\n",
    "\n",
    "Adding the above terms to our CEPA0 code obtains the CCD correlation energy (may take a minute or two):"
   ]
  },
  {
   "cell_type": "code",
   "execution_count": null,
   "metadata": {
    "collapsed": true
   },
   "outputs": [],
   "source": [
    "for cc_iter in range(1, MAXITER + 1):\n",
    "    E_old = E_CCD\n",
    "\n",
    "    # Collect terms\n",
    "    mp2    = gmo[v, v, o, o]\n",
    "    cepa1  = (1 / 2) * np.einsum('abcd, cdij -> abij', gmo[v, v, v, v], t_amp)\n",
    "    cepa2  = (1 / 2) * np.einsum('klij, abkl -> abij', gmo[o, o, o, o], t_amp)\n",
    "    cepa3a = np.einsum('akic, bcjk -> abij', gmo[v, o, o, v], t_amp)\n",
    "    cepa3b = -cepa3a.transpose(1, 0, 2, 3)\n",
    "    cepa3c = -cepa3a.transpose(0, 1, 3, 2)\n",
    "    cepa3d =  cepa3a.transpose(1, 0, 3, 2)\n",
    "    cepa3  =  cepa3a + cepa3b + cepa3c + cepa3d\n",
    "\n",
    "    ccd1a  = np.einsum('klcd, acij, bdkl -> abij', gmo[o, o, v, v], t_amp, t_amp)\n",
    "    ccd1b  = -ccd1a.transpose(1, 0, 2, 3)\n",
    "    ccd1   = -(1 / 2) * (ccd1a + ccd1b)\n",
    "\n",
    "    ccd2a  = np.einsum('klcd, abik, cdjl -> abij', gmo[o, o, v, v], t_amp, t_amp)\n",
    "    ccd2b  = -ccd2a.transpose(0, 1, 3, 2)\n",
    "    ccd2   = -(1 / 2) * (ccd2a + ccd2b)\n",
    "\n",
    "    ccd3   =  (1 / 4) * np.einsum('klcd, cdij, abkl -> abij', gmo[o, o, v, v], t_amp, t_amp)\n",
    "\n",
    "    ccd4a  = np.einsum('klcd, acik, bdjl -> abij', gmo[o, o, v, v], t_amp, t_amp)\n",
    "    ccd4b  = -ccd4a.transpose(0, 1, 3, 2)\n",
    "    ccd4   = (ccd4a + ccd4b)\n",
    "\n",
    "    # Update Amplitude\n",
    "    t_amp_new = e_abij * (mp2 + cepa1 + cepa2 + cepa3 + ccd1 + ccd2 + ccd3 + ccd4)\n",
    "\n",
    "    # Evaluate Energy\n",
    "    E_CCD = (1 / 4) * np.einsum('ijab, abij ->', gmo[o, o, v, v], t_amp_new)\n",
    "    t_amp = t_amp_new\n",
    "    dE = E_CCD - E_old\n",
    "    print('CCD Iteration %3d: Energy = %4.12f dE = %1.5E' % (cc_iter, E_CCD, dE))\n",
    "\n",
    "    if abs(dE) < 1.e-8:\n",
    "        print(\"\\nCCD Iterations have converged!\")\n",
    "        break\n",
    "\n",
    "    if (cc_iter == MAXITER):\n",
    "        psi4.core.clean()\n",
    "        raise Exception(\"\\nMaximum number of iterations exceeded.\")\n",
    "\n",
    "print('\\nCCD Correlation Energy: %5.15f' % (E_CCD))\n",
    "print('CCD Total Energy: %5.15f' % (E_CCD + scf_e))\n"
   ]
  },
  {
   "cell_type": "markdown",
   "metadata": {},
   "source": [
    "Unfortunately, Psi4 does not have a CCD code to compare this to. However, Psi4 does have Bruekner CCD, an orbital-optimized variant of CCD. We can qualitatively compare our energies to this energy. The Bruekner-CCD energy should be a little lower than our CCD due to the orbital optimization procedure."
   ]
  },
  {
   "cell_type": "code",
   "execution_count": null,
   "metadata": {
    "collapsed": true
   },
   "outputs": [],
   "source": [
    "psi4_bccd = psi4.energy('bccd', ref_wfn = scf_wfn)\n",
    "print('\\nPsi4 BCCD Correlation Energy:     ', psi4_bccd - scf_e)\n",
    "print('Psi4 BCCD Total Energy:     ', psi4_bccd)"
   ]
  },
  {
   "cell_type": "markdown",
   "metadata": {
    "collapsed": true
   },
   "source": [
    "## References\n",
    "\n",
    "1. Review of coupled-cluster theory, included diagrammatic derivations of the CCD equations:\n",
    "\t> [[Bartlett and Musial:2007](https://journals.aps.org/rmp/abstract/10.1103/RevModPhys.79.291)] Rodney J. Bartlett and Monika Musial,  \"Coupled-cluster theory in quantum chemistry\" *Rev. Mod. Phys.* **79**, 291 (2007)\n",
    "2. Useful Notes on Kutzelnigg-Mukherjee Notation: \n",
    "    > [Copan: KM Notation] A. V. Copan, \"Kutzelnigg-Mukherjee Tensor Notation\" Accessed with https://github.com/avcopan/chem-8950/blob/master/3q-1h-kutzelnigg-mukherjee.pdf\n",
    "    \n"
   ]
  },
  {
   "cell_type": "code",
   "execution_count": null,
   "metadata": {
    "collapsed": true
   },
   "outputs": [],
   "source": []
  }
 ],
 "metadata": {
  "anaconda-cloud": {},
  "kernelspec": {
   "display_name": "Python 3",
   "language": "python",
   "name": "python3"
  },
  "language_info": {
   "codemirror_mode": {
    "name": "ipython",
    "version": 3
   },
   "file_extension": ".py",
   "mimetype": "text/x-python",
   "name": "python",
   "nbconvert_exporter": "python",
   "pygments_lexer": "ipython3",
   "version": "3.6.1"
  },
  "latex_envs": {
   "LaTeX_envs_menu_present": true,
   "bibliofile": "biblio.bib",
   "cite_by": "apalike",
   "current_citInitial": 1,
   "eqLabelWithNumbers": true,
   "eqNumInitial": 1,
   "labels_anchors": false,
   "latex_user_defs": false,
   "report_style_numbering": false,
   "user_envs_cfg": false
  }
 },
 "nbformat": 4,
 "nbformat_minor": 1
}
